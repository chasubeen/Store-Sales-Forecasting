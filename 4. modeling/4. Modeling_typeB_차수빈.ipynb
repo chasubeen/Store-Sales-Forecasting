{
 "cells": [
  {
   "cell_type": "markdown",
   "metadata": {
    "id": "Fawd7zz-L_K3"
   },
   "source": [
    "# **0. 패키지 로딩**"
   ]
  },
  {
   "cell_type": "code",
   "execution_count": 1,
   "metadata": {
    "executionInfo": {
     "elapsed": 1941,
     "status": "ok",
     "timestamp": 1705566414566,
     "user": {
      "displayName": "차수빈",
      "userId": "16979887891359732529"
     },
     "user_tz": -540
    },
    "id": "2YSZ_FEcMQ3P"
   },
   "outputs": [],
   "source": [
    "import numpy as np\n",
    "import pandas as pd\n",
    "import seaborn as sns\n",
    "import matplotlib.pyplot as plt\n",
    "%matplotlib inline\n",
    "\n",
    "import os\n",
    "import warnings\n",
    "warnings.filterwarnings(action='ignore', category=UserWarning)"
   ]
  },
  {
   "cell_type": "code",
   "execution_count": 2,
   "metadata": {
    "executionInfo": {
     "elapsed": 9,
     "status": "ok",
     "timestamp": 1705566414567,
     "user": {
      "displayName": "차수빈",
      "userId": "16979887891359732529"
     },
     "user_tz": -540
    },
    "id": "K-xvJPHsQ0Vi"
   },
   "outputs": [],
   "source": [
    "np.set_printoptions(suppress = True)"
   ]
  },
  {
   "cell_type": "markdown",
   "metadata": {
    "id": "fbou-cpFQG_f"
   },
   "source": [
    "# **1. 데이터 불러오기**"
   ]
  },
  {
   "cell_type": "markdown",
   "metadata": {
    "id": "7a3OIFiBRXSw"
   },
   "source": [
    "- 현재 매장은 `type`에 따라 5개로 구분되어있는 상태\n",
    "  - typeA, typeB, typeC, typeD, typeE\n",
    "  \n"
   ]
  },
  {
   "cell_type": "code",
   "execution_count": 8,
   "metadata": {
    "executionInfo": {
     "elapsed": 9,
     "status": "ok",
     "timestamp": 1705566440216,
     "user": {
      "displayName": "차수빈",
      "userId": "16979887891359732529"
     },
     "user_tz": -540
    },
    "id": "bZZFcroTRUMU"
   },
   "outputs": [],
   "source": [
    "## 파일 상위 경로 설정\n",
    "# 본인 경로에 맞게 수정 필요(작업하는 곳에 공유 드라이브 바로가기 해두면 편함)\n",
    "\n",
    "train_path = './data/modeling/train'\n",
    "val_path = './data/modeling/val'\n",
    "test_path = './data/modeling/test'"
   ]
  },
  {
   "cell_type": "code",
   "execution_count": 9,
   "metadata": {
    "executionInfo": {
     "elapsed": 26690,
     "status": "ok",
     "timestamp": 1705566508390,
     "user": {
      "displayName": "차수빈",
      "userId": "16979887891359732529"
     },
     "user_tz": -540
    },
    "id": "TWlcMRA8VR26"
   },
   "outputs": [],
   "source": [
    "# 데이터 파일 경로 저장\n",
    "train_files = [os.path.join(train_path, f'train{i}.csv') for i in ['A', 'B', 'C', 'D', 'E']]\n",
    "val_files = [os.path.join(val_path, f'val{i}.csv') for i in ['A', 'B', 'C', 'D', 'E']]\n",
    "test_files = [os.path.join(test_path, f'test{i}.csv') for i in ['A', 'B', 'C', 'D', 'E']]\n",
    "\n",
    "# 각 파일을 데이터프레임 형태로 불러오기\n",
    "train_types = [pd.read_csv(file) for file in train_files]\n",
    "val_types = [pd.read_csv(file) for file in val_files]\n",
    "test_types = [pd.read_csv(file) for file in test_files]"
   ]
  },
  {
   "cell_type": "code",
   "execution_count": 10,
   "metadata": {
    "colab": {
     "base_uri": "https://localhost:8080/"
    },
    "executionInfo": {
     "elapsed": 406,
     "status": "ok",
     "timestamp": 1705566537569,
     "user": {
      "displayName": "차수빈",
      "userId": "16979887891359732529"
     },
     "user_tz": -540
    },
    "id": "3ioYxkAZVzUL",
    "outputId": "4ee1b4cf-c75c-468d-a30d-08de433e6600"
   },
   "outputs": [
    {
     "name": "stdout",
     "output_type": "stream",
     "text": [
      "['./data/modeling/train\\\\trainA.csv', './data/modeling/train\\\\trainB.csv', './data/modeling/train\\\\trainC.csv', './data/modeling/train\\\\trainD.csv', './data/modeling/train\\\\trainE.csv']\n",
      "['./data/modeling/val\\\\valA.csv', './data/modeling/val\\\\valB.csv', './data/modeling/val\\\\valC.csv', './data/modeling/val\\\\valD.csv', './data/modeling/val\\\\valE.csv']\n",
      "['./data/modeling/test\\\\testA.csv', './data/modeling/test\\\\testB.csv', './data/modeling/test\\\\testC.csv', './data/modeling/test\\\\testD.csv', './data/modeling/test\\\\testE.csv']\n"
     ]
    }
   ],
   "source": [
    "### 데이터 확인\n",
    "\n",
    "print(train_files)\n",
    "print(val_files)\n",
    "print(test_files)"
   ]
  },
  {
   "cell_type": "markdown",
   "metadata": {
    "id": "dEwmpUbnWC3u"
   },
   "source": [
    "# **2. 평가 지표**\n",
    "- Root Mean Squared Logarithmic Error(`RMSLE`)\n",
    "  - 다음과 같이 계산  \n",
    "  $ \\sqrt{ \\frac{1}{n} \\sum_{i=1}^n \\left(\\log (1 + \\hat{y}_i) - \\log (1 + y_i)\\right)^2} $\n",
    "  - $n$: 총 인스턴스 수\n",
    "  - $ \\hat{y}_i$: 인스턴스 $i$에 대한 타겟의 예측값\n",
    "  - $y_i$: 인스턴스 $i$에 대한 타겟의 실제값"
   ]
  },
  {
   "cell_type": "code",
   "execution_count": 11,
   "metadata": {
    "executionInfo": {
     "elapsed": 608,
     "status": "ok",
     "timestamp": 1705566604008,
     "user": {
      "displayName": "차수빈",
      "userId": "16979887891359732529"
     },
     "user_tz": -540
    },
    "id": "OG0KZwSoWHv_"
   },
   "outputs": [],
   "source": [
    "from sklearn.metrics import mean_squared_log_error\n",
    "\n",
    "### RMSLE 계산\n",
    "def rmsle(y, pred):\n",
    "    # 오버플로, 언더플로 방지를 위해 log1p()로 로그 변환\n",
    "    log_y = np.log1p(y)\n",
    "    log_pred = np.log1p(pred)\n",
    "    \n",
    "    squared_error = (log_y - log_pred) ** 2\n",
    "    \n",
    "    rmsle = np.sqrt(np.mean(squared_error))\n",
    "    \n",
    "    return rmsle"
   ]
  },
  {
   "cell_type": "markdown",
   "metadata": {
    "id": "td85vcPOLczg"
   },
   "source": [
    "# **3. 모델별 성능 확인을 위한 함수**"
   ]
  },
  {
   "cell_type": "code",
   "execution_count": 12,
   "metadata": {
    "executionInfo": {
     "elapsed": 317,
     "status": "ok",
     "timestamp": 1705566607181,
     "user": {
      "displayName": "차수빈",
      "userId": "16979887891359732529"
     },
     "user_tz": -540
    },
    "id": "k0IIC2SAL87q"
   },
   "outputs": [],
   "source": [
    "colors = [\n",
    "    'khaki', 'teal', 'orchid', 'sandybrown', 'greenyellow', 'dodgerblue', 'rosybrown',\n",
    "    'deeppink', 'salmon', 'olivedrab', 'olive', 'forestgreen',\n",
    "    'royalblue', 'mediumpurple', 'gold', 'seagreen',\n",
    "    'turquoise', 'steelblue', 'slategray', 'peru', 'slateblue', 'cadetblue',\n",
    "    'lime', 'lavender', 'lightcoral', 'lightseagreen', 'lightskyblue', 'lightgreen',\n",
    "    'lightpink', 'lightsalmon', 'lightsteelblue', 'lightyellow', 'palegreen',\n",
    "]"
   ]
  },
  {
   "cell_type": "code",
   "execution_count": 13,
   "metadata": {
    "executionInfo": {
     "elapsed": 318,
     "status": "ok",
     "timestamp": 1705566609901,
     "user": {
      "displayName": "차수빈",
      "userId": "16979887891359732529"
     },
     "user_tz": -540
    },
    "id": "ojS5M9P2MfPJ"
   },
   "outputs": [],
   "source": [
    "## 회귀곡선 시각화\n",
    "# 예측값, 실제값을 산점도로 표현\n",
    "\n",
    "def plot_predictions(name_, pred, actual):\n",
    "    df = pd.DataFrame({'prediction': pred, 'actual': actual})\n",
    "    df = df.sort_values(by='actual').reset_index(drop=True)\n",
    "\n",
    "    plt.figure(figsize=(10, 8))\n",
    "    plt.scatter(df.index, df['prediction'], marker='x', color='b')\n",
    "    plt.scatter(df.index, df['actual'], alpha=0.7, marker='o', color='black')\n",
    "    plt.title(name_, fontsize=15)\n",
    "    plt.legend(['prediction', 'actual'], fontsize=12)\n",
    "    plt.show()"
   ]
  },
  {
   "cell_type": "code",
   "execution_count": 14,
   "metadata": {
    "executionInfo": {
     "elapsed": 6,
     "status": "ok",
     "timestamp": 1705566610638,
     "user": {
      "displayName": "차수빈",
      "userId": "16979887891359732529"
     },
     "user_tz": -540
    },
    "id": "nUS9O7MwMf0i"
   },
   "outputs": [],
   "source": [
    "def model_eval(name_, pred, actual):\n",
    "    global my_predictions\n",
    "    global colors\n",
    "\n",
    "    plot_predictions(name_, pred, actual)\n",
    "\n",
    "    rmsle = np.sqrt(mean_squared_log_error(actual, pred))\n",
    "\n",
    "    my_predictions[name_] = {'rmsle': rmsle}\n",
    "\n",
    "    # 데이터프레임 생성\n",
    "    df = pd.DataFrame(my_predictions).T\n",
    "    df['model'] = df.index\n",
    "    df = df.sort_values(by=['rmsle'], ascending=[True])\n",
    "\n",
    "    # 상한, 하한 설정\n",
    "    min_ = df['rmsle'].min() - 0.1\n",
    "    max_ = df['rmsle'].max() + 0.1\n",
    "\n",
    "    length = len(df)\n",
    "\n",
    "    plt.figure(figsize=(10, length))\n",
    "    ax = plt.subplot()\n",
    "    ax.set_yticks(np.arange(len(df)))\n",
    "    ax.set_yticklabels(df['model'], fontsize=15)\n",
    "    bars = ax.barh(np.arange(len(df)), df['rmsle'])\n",
    "\n",
    "    for i, v in enumerate(df['rmsle']):\n",
    "        idx = np.random.choice(len(colors))\n",
    "        bars[i].set_color(colors[idx])\n",
    "        ax.text(v + 0.02, i, str(round(v, 3)), color='k', fontsize=15, fontweight='bold')\n",
    "\n",
    "    plt.title('RMSLE Error', fontsize=18)\n",
    "    plt.xlim(min_, max_)\n",
    "\n",
    "    plt.show()\n",
    "\n",
    "    print()\n",
    "    print(df)"
   ]
  },
  {
   "cell_type": "code",
   "execution_count": 15,
   "metadata": {
    "executionInfo": {
     "elapsed": 319,
     "status": "ok",
     "timestamp": 1705566613686,
     "user": {
      "displayName": "차수빈",
      "userId": "16979887891359732529"
     },
     "user_tz": -540
    },
    "id": "oInI0AUDkjNn"
   },
   "outputs": [],
   "source": [
    "# 모델의 중요도 상위 10개의 피처명과 그때의 중요도 값을 Series로 반환\n",
    "\n",
    "def get_top_features(model):\n",
    "    ftr_importances_values = model.feature_importances_\n",
    "    ftr_importances = pd.Series(ftr_importances_values, index = X_train.columns)\n",
    "    ftr_top10 = ftr_importances.sort_values(ascending=False)[:10]\n",
    "    return ftr_top10\n",
    "\n",
    "def visualize_ftr_importances(model):\n",
    "    fig, ax = plt.subplots(figsize=(7, 5))\n",
    "    fig.tight_layout()\n",
    "\n",
    "    ftr_top10 = get_top_features(model)\n",
    "    ax.set_title(model.__class__.__name__ + ' Feature Importances', size=15)\n",
    "\n",
    "    for label in (ax.get_xticklabels() + ax.get_yticklabels()):\n",
    "        label.set_fontsize(12)\n",
    "\n",
    "    sns.barplot(x=ftr_top10.values, y=ftr_top10.index, ax=ax)"
   ]
  },
  {
   "cell_type": "markdown",
   "metadata": {
    "id": "vSjAg2kXek_F"
   },
   "source": [
    "# **4. 모델링**"
   ]
  },
  {
   "cell_type": "markdown",
   "metadata": {
    "id": "nBGDOaLIenIm"
   },
   "source": [
    "## **🏪 Type B**"
   ]
  },
  {
   "cell_type": "code",
   "execution_count": 16,
   "metadata": {
    "executionInfo": {
     "elapsed": 332,
     "status": "ok",
     "timestamp": 1705566644294,
     "user": {
      "displayName": "차수빈",
      "userId": "16979887891359732529"
     },
     "user_tz": -540
    },
    "id": "Tp48tZ9-e4br"
   },
   "outputs": [],
   "source": [
    "trainB = train_types[1]\n",
    "valB = val_types[1]\n",
    "testB = test_types[1]"
   ]
  },
  {
   "cell_type": "code",
   "execution_count": 17,
   "metadata": {
    "colab": {
     "base_uri": "https://localhost:8080/",
     "height": 255
    },
    "executionInfo": {
     "elapsed": 8,
     "status": "ok",
     "timestamp": 1705566648361,
     "user": {
      "displayName": "차수빈",
      "userId": "16979887891359732529"
     },
     "user_tz": -540
    },
    "id": "YVtJi5T-fOcG",
    "outputId": "dbee746f-ebe0-4c50-efa1-b247c9f88fec"
   },
   "outputs": [
    {
     "data": {
      "text/html": [
       "<div>\n",
       "<style scoped>\n",
       "    .dataframe tbody tr th:only-of-type {\n",
       "        vertical-align: middle;\n",
       "    }\n",
       "\n",
       "    .dataframe tbody tr th {\n",
       "        vertical-align: top;\n",
       "    }\n",
       "\n",
       "    .dataframe thead th {\n",
       "        text-align: right;\n",
       "    }\n",
       "</style>\n",
       "<table border=\"1\" class=\"dataframe\">\n",
       "  <thead>\n",
       "    <tr style=\"text-align: right;\">\n",
       "      <th></th>\n",
       "      <th>sales</th>\n",
       "      <th>onpromotion</th>\n",
       "      <th>dcoilwtico</th>\n",
       "      <th>store_nbr_9</th>\n",
       "      <th>store_nbr_11</th>\n",
       "      <th>store_nbr_18</th>\n",
       "      <th>store_nbr_20</th>\n",
       "      <th>store_nbr_21</th>\n",
       "      <th>store_nbr_31</th>\n",
       "      <th>store_nbr_34</th>\n",
       "      <th>...</th>\n",
       "      <th>month_10</th>\n",
       "      <th>month_11</th>\n",
       "      <th>month_12</th>\n",
       "      <th>day_of_week_0</th>\n",
       "      <th>day_of_week_1</th>\n",
       "      <th>day_of_week_2</th>\n",
       "      <th>day_of_week_3</th>\n",
       "      <th>day_of_week_4</th>\n",
       "      <th>day_of_week_5</th>\n",
       "      <th>day_of_week_6</th>\n",
       "    </tr>\n",
       "  </thead>\n",
       "  <tbody>\n",
       "    <tr>\n",
       "      <th>0</th>\n",
       "      <td>8.655214</td>\n",
       "      <td>-0.522014</td>\n",
       "      <td>-0.084655</td>\n",
       "      <td>1</td>\n",
       "      <td>0</td>\n",
       "      <td>0</td>\n",
       "      <td>0</td>\n",
       "      <td>0</td>\n",
       "      <td>0</td>\n",
       "      <td>0</td>\n",
       "      <td>...</td>\n",
       "      <td>0</td>\n",
       "      <td>0</td>\n",
       "      <td>0</td>\n",
       "      <td>0</td>\n",
       "      <td>0</td>\n",
       "      <td>0</td>\n",
       "      <td>0</td>\n",
       "      <td>0</td>\n",
       "      <td>0</td>\n",
       "      <td>1</td>\n",
       "    </tr>\n",
       "    <tr>\n",
       "      <th>1</th>\n",
       "      <td>5.225747</td>\n",
       "      <td>0.112980</td>\n",
       "      <td>1.514441</td>\n",
       "      <td>0</td>\n",
       "      <td>0</td>\n",
       "      <td>0</td>\n",
       "      <td>0</td>\n",
       "      <td>0</td>\n",
       "      <td>0</td>\n",
       "      <td>0</td>\n",
       "      <td>...</td>\n",
       "      <td>0</td>\n",
       "      <td>0</td>\n",
       "      <td>0</td>\n",
       "      <td>1</td>\n",
       "      <td>0</td>\n",
       "      <td>0</td>\n",
       "      <td>0</td>\n",
       "      <td>0</td>\n",
       "      <td>0</td>\n",
       "      <td>0</td>\n",
       "    </tr>\n",
       "    <tr>\n",
       "      <th>2</th>\n",
       "      <td>5.143831</td>\n",
       "      <td>3.024402</td>\n",
       "      <td>1.771311</td>\n",
       "      <td>0</td>\n",
       "      <td>0</td>\n",
       "      <td>1</td>\n",
       "      <td>0</td>\n",
       "      <td>0</td>\n",
       "      <td>0</td>\n",
       "      <td>0</td>\n",
       "      <td>...</td>\n",
       "      <td>0</td>\n",
       "      <td>0</td>\n",
       "      <td>0</td>\n",
       "      <td>0</td>\n",
       "      <td>0</td>\n",
       "      <td>0</td>\n",
       "      <td>1</td>\n",
       "      <td>0</td>\n",
       "      <td>0</td>\n",
       "      <td>0</td>\n",
       "    </tr>\n",
       "    <tr>\n",
       "      <th>3</th>\n",
       "      <td>2.484907</td>\n",
       "      <td>-0.522014</td>\n",
       "      <td>-0.875071</td>\n",
       "      <td>0</td>\n",
       "      <td>0</td>\n",
       "      <td>0</td>\n",
       "      <td>0</td>\n",
       "      <td>0</td>\n",
       "      <td>1</td>\n",
       "      <td>0</td>\n",
       "      <td>...</td>\n",
       "      <td>0</td>\n",
       "      <td>0</td>\n",
       "      <td>0</td>\n",
       "      <td>0</td>\n",
       "      <td>0</td>\n",
       "      <td>0</td>\n",
       "      <td>0</td>\n",
       "      <td>0</td>\n",
       "      <td>0</td>\n",
       "      <td>1</td>\n",
       "    </tr>\n",
       "    <tr>\n",
       "      <th>4</th>\n",
       "      <td>2.282382</td>\n",
       "      <td>-0.522014</td>\n",
       "      <td>1.641002</td>\n",
       "      <td>1</td>\n",
       "      <td>0</td>\n",
       "      <td>0</td>\n",
       "      <td>0</td>\n",
       "      <td>0</td>\n",
       "      <td>0</td>\n",
       "      <td>0</td>\n",
       "      <td>...</td>\n",
       "      <td>0</td>\n",
       "      <td>0</td>\n",
       "      <td>0</td>\n",
       "      <td>1</td>\n",
       "      <td>0</td>\n",
       "      <td>0</td>\n",
       "      <td>0</td>\n",
       "      <td>0</td>\n",
       "      <td>0</td>\n",
       "      <td>0</td>\n",
       "    </tr>\n",
       "  </tbody>\n",
       "</table>\n",
       "<p>5 rows × 85 columns</p>\n",
       "</div>"
      ],
      "text/plain": [
       "      sales  onpromotion  dcoilwtico  store_nbr_9  store_nbr_11  store_nbr_18  \\\n",
       "0  8.655214    -0.522014   -0.084655            1             0             0   \n",
       "1  5.225747     0.112980    1.514441            0             0             0   \n",
       "2  5.143831     3.024402    1.771311            0             0             1   \n",
       "3  2.484907    -0.522014   -0.875071            0             0             0   \n",
       "4  2.282382    -0.522014    1.641002            1             0             0   \n",
       "\n",
       "   store_nbr_20  store_nbr_21  store_nbr_31  store_nbr_34  ...  month_10  \\\n",
       "0             0             0             0             0  ...         0   \n",
       "1             0             0             0             0  ...         0   \n",
       "2             0             0             0             0  ...         0   \n",
       "3             0             0             1             0  ...         0   \n",
       "4             0             0             0             0  ...         0   \n",
       "\n",
       "   month_11  month_12  day_of_week_0  day_of_week_1  day_of_week_2  \\\n",
       "0         0         0              0              0              0   \n",
       "1         0         0              1              0              0   \n",
       "2         0         0              0              0              0   \n",
       "3         0         0              0              0              0   \n",
       "4         0         0              1              0              0   \n",
       "\n",
       "   day_of_week_3  day_of_week_4  day_of_week_5  day_of_week_6  \n",
       "0              0              0              0              1  \n",
       "1              0              0              0              0  \n",
       "2              1              0              0              0  \n",
       "3              0              0              0              1  \n",
       "4              0              0              0              0  \n",
       "\n",
       "[5 rows x 85 columns]"
      ]
     },
     "execution_count": 17,
     "metadata": {},
     "output_type": "execute_result"
    }
   ],
   "source": [
    "trainB.head()"
   ]
  },
  {
   "cell_type": "code",
   "execution_count": 18,
   "metadata": {
    "colab": {
     "base_uri": "https://localhost:8080/"
    },
    "executionInfo": {
     "elapsed": 9,
     "status": "ok",
     "timestamp": 1705566656280,
     "user": {
      "displayName": "차수빈",
      "userId": "16979887891359732529"
     },
     "user_tz": -540
    },
    "id": "57HxvxBthnNV",
    "outputId": "f0981cdb-f981-4781-9f63-2fcaf2d733b9"
   },
   "outputs": [
    {
     "name": "stdout",
     "output_type": "stream",
     "text": [
      "<class 'pandas.core.frame.DataFrame'>\n",
      "RangeIndex: 205795 entries, 0 to 205794\n",
      "Data columns (total 85 columns):\n",
      " #   Column                             Non-Null Count   Dtype  \n",
      "---  ------                             --------------   -----  \n",
      " 0   sales                              205795 non-null  float64\n",
      " 1   onpromotion                        205795 non-null  float64\n",
      " 2   dcoilwtico                         205795 non-null  float64\n",
      " 3   store_nbr_9                        205795 non-null  int64  \n",
      " 4   store_nbr_11                       205795 non-null  int64  \n",
      " 5   store_nbr_18                       205795 non-null  int64  \n",
      " 6   store_nbr_20                       205795 non-null  int64  \n",
      " 7   store_nbr_21                       205795 non-null  int64  \n",
      " 8   store_nbr_31                       205795 non-null  int64  \n",
      " 9   store_nbr_34                       205795 non-null  int64  \n",
      " 10  store_nbr_39                       205795 non-null  int64  \n",
      " 11  family_AUTOMOTIVE                  205795 non-null  int64  \n",
      " 12  family_BABY CARE                   205795 non-null  int64  \n",
      " 13  family_BEAUTY                      205795 non-null  int64  \n",
      " 14  family_BEVERAGES                   205795 non-null  int64  \n",
      " 15  family_BREAD/BAKERY                205795 non-null  int64  \n",
      " 16  family_CELEBRATION                 205795 non-null  int64  \n",
      " 17  family_CLEANING                    205795 non-null  int64  \n",
      " 18  family_DAIRY                       205795 non-null  int64  \n",
      " 19  family_DELI                        205795 non-null  int64  \n",
      " 20  family_EGGS                        205795 non-null  int64  \n",
      " 21  family_FROZEN FOODS                205795 non-null  int64  \n",
      " 22  family_GROCERY I                   205795 non-null  int64  \n",
      " 23  family_GROCERY II                  205795 non-null  int64  \n",
      " 24  family_HARDWARE                    205795 non-null  int64  \n",
      " 25  family_HOME AND KITCHEN I          205795 non-null  int64  \n",
      " 26  family_HOME AND KITCHEN II         205795 non-null  int64  \n",
      " 27  family_HOME APPLIANCES             205795 non-null  int64  \n",
      " 28  family_HOME CARE                   205795 non-null  int64  \n",
      " 29  family_LADIESWEAR                  205795 non-null  int64  \n",
      " 30  family_LAWN AND GARDEN             205795 non-null  int64  \n",
      " 31  family_LINGERIE                    205795 non-null  int64  \n",
      " 32  family_LIQUOR,WINE,BEER            205795 non-null  int64  \n",
      " 33  family_MAGAZINES                   205795 non-null  int64  \n",
      " 34  family_MEATS                       205795 non-null  int64  \n",
      " 35  family_PERSONAL CARE               205795 non-null  int64  \n",
      " 36  family_PET SUPPLIES                205795 non-null  int64  \n",
      " 37  family_PLAYERS AND ELECTRONICS     205795 non-null  int64  \n",
      " 38  family_POULTRY                     205795 non-null  int64  \n",
      " 39  family_PREPARED FOODS              205795 non-null  int64  \n",
      " 40  family_PRODUCE                     205795 non-null  int64  \n",
      " 41  family_SCHOOL AND OFFICE SUPPLIES  205795 non-null  int64  \n",
      " 42  family_SEAFOOD                     205795 non-null  int64  \n",
      " 43  city_Babahoyo                      205795 non-null  int64  \n",
      " 44  city_Cayambe                       205795 non-null  int64  \n",
      " 45  city_Cuenca                        205795 non-null  int64  \n",
      " 46  city_Guayaquil                     205795 non-null  int64  \n",
      " 47  city_Quito                         205795 non-null  int64  \n",
      " 48  city_Santo Domingo                 205795 non-null  int64  \n",
      " 49  cluster_6                          205795 non-null  int64  \n",
      " 50  cluster_10                         205795 non-null  int64  \n",
      " 51  cluster_16                         205795 non-null  int64  \n",
      " 52  holiday_Local                      205795 non-null  int64  \n",
      " 53  holiday_National                   205795 non-null  int64  \n",
      " 54  holiday_Regional                   205795 non-null  int64  \n",
      " 55  holiday_Weekday                    205795 non-null  int64  \n",
      " 56  holiday_Weekend                    205795 non-null  int64  \n",
      " 57  year_2013                          205795 non-null  int64  \n",
      " 58  year_2014                          205795 non-null  int64  \n",
      " 59  year_2015                          205795 non-null  int64  \n",
      " 60  year_2016                          205795 non-null  int64  \n",
      " 61  year_2017                          205795 non-null  int64  \n",
      " 62  quarter_1                          205795 non-null  int64  \n",
      " 63  quarter_2                          205795 non-null  int64  \n",
      " 64  quarter_3                          205795 non-null  int64  \n",
      " 65  quarter_4                          205795 non-null  int64  \n",
      " 66  month_1                            205795 non-null  int64  \n",
      " 67  month_2                            205795 non-null  int64  \n",
      " 68  month_3                            205795 non-null  int64  \n",
      " 69  month_4                            205795 non-null  int64  \n",
      " 70  month_5                            205795 non-null  int64  \n",
      " 71  month_6                            205795 non-null  int64  \n",
      " 72  month_7                            205795 non-null  int64  \n",
      " 73  month_8                            205795 non-null  int64  \n",
      " 74  month_9                            205795 non-null  int64  \n",
      " 75  month_10                           205795 non-null  int64  \n",
      " 76  month_11                           205795 non-null  int64  \n",
      " 77  month_12                           205795 non-null  int64  \n",
      " 78  day_of_week_0                      205795 non-null  int64  \n",
      " 79  day_of_week_1                      205795 non-null  int64  \n",
      " 80  day_of_week_2                      205795 non-null  int64  \n",
      " 81  day_of_week_3                      205795 non-null  int64  \n",
      " 82  day_of_week_4                      205795 non-null  int64  \n",
      " 83  day_of_week_5                      205795 non-null  int64  \n",
      " 84  day_of_week_6                      205795 non-null  int64  \n",
      "dtypes: float64(3), int64(82)\n",
      "memory usage: 133.5 MB\n"
     ]
    }
   ],
   "source": [
    "trainB.info()"
   ]
  },
  {
   "cell_type": "code",
   "execution_count": 19,
   "metadata": {
    "colab": {
     "base_uri": "https://localhost:8080/",
     "height": 255
    },
    "executionInfo": {
     "elapsed": 8,
     "status": "ok",
     "timestamp": 1705566661189,
     "user": {
      "displayName": "차수빈",
      "userId": "16979887891359732529"
     },
     "user_tz": -540
    },
    "id": "LI3RXnJ3zxFJ",
    "outputId": "6acd945d-02bc-4187-e9de-3465d4a33087"
   },
   "outputs": [
    {
     "data": {
      "text/html": [
       "<div>\n",
       "<style scoped>\n",
       "    .dataframe tbody tr th:only-of-type {\n",
       "        vertical-align: middle;\n",
       "    }\n",
       "\n",
       "    .dataframe tbody tr th {\n",
       "        vertical-align: top;\n",
       "    }\n",
       "\n",
       "    .dataframe thead th {\n",
       "        text-align: right;\n",
       "    }\n",
       "</style>\n",
       "<table border=\"1\" class=\"dataframe\">\n",
       "  <thead>\n",
       "    <tr style=\"text-align: right;\">\n",
       "      <th></th>\n",
       "      <th>sales</th>\n",
       "      <th>onpromotion</th>\n",
       "      <th>dcoilwtico</th>\n",
       "      <th>store_nbr_9</th>\n",
       "      <th>store_nbr_11</th>\n",
       "      <th>store_nbr_18</th>\n",
       "      <th>store_nbr_20</th>\n",
       "      <th>store_nbr_21</th>\n",
       "      <th>store_nbr_31</th>\n",
       "      <th>store_nbr_34</th>\n",
       "      <th>...</th>\n",
       "      <th>month_10</th>\n",
       "      <th>month_11</th>\n",
       "      <th>month_12</th>\n",
       "      <th>day_of_week_0</th>\n",
       "      <th>day_of_week_1</th>\n",
       "      <th>day_of_week_2</th>\n",
       "      <th>day_of_week_3</th>\n",
       "      <th>day_of_week_4</th>\n",
       "      <th>day_of_week_5</th>\n",
       "      <th>day_of_week_6</th>\n",
       "    </tr>\n",
       "  </thead>\n",
       "  <tbody>\n",
       "    <tr>\n",
       "      <th>0</th>\n",
       "      <td>4.000</td>\n",
       "      <td>-0.522014</td>\n",
       "      <td>-0.853169</td>\n",
       "      <td>0</td>\n",
       "      <td>0</td>\n",
       "      <td>1</td>\n",
       "      <td>0</td>\n",
       "      <td>0</td>\n",
       "      <td>0</td>\n",
       "      <td>0</td>\n",
       "      <td>...</td>\n",
       "      <td>0</td>\n",
       "      <td>1</td>\n",
       "      <td>0</td>\n",
       "      <td>0</td>\n",
       "      <td>0</td>\n",
       "      <td>1</td>\n",
       "      <td>0</td>\n",
       "      <td>0</td>\n",
       "      <td>0</td>\n",
       "      <td>0</td>\n",
       "    </tr>\n",
       "    <tr>\n",
       "      <th>1</th>\n",
       "      <td>305.289</td>\n",
       "      <td>1.587390</td>\n",
       "      <td>-0.544259</td>\n",
       "      <td>0</td>\n",
       "      <td>0</td>\n",
       "      <td>1</td>\n",
       "      <td>0</td>\n",
       "      <td>0</td>\n",
       "      <td>0</td>\n",
       "      <td>0</td>\n",
       "      <td>...</td>\n",
       "      <td>0</td>\n",
       "      <td>0</td>\n",
       "      <td>0</td>\n",
       "      <td>0</td>\n",
       "      <td>1</td>\n",
       "      <td>0</td>\n",
       "      <td>0</td>\n",
       "      <td>0</td>\n",
       "      <td>0</td>\n",
       "      <td>0</td>\n",
       "    </tr>\n",
       "    <tr>\n",
       "      <th>2</th>\n",
       "      <td>517.000</td>\n",
       "      <td>-0.522014</td>\n",
       "      <td>1.319604</td>\n",
       "      <td>0</td>\n",
       "      <td>0</td>\n",
       "      <td>0</td>\n",
       "      <td>0</td>\n",
       "      <td>0</td>\n",
       "      <td>0</td>\n",
       "      <td>0</td>\n",
       "      <td>...</td>\n",
       "      <td>0</td>\n",
       "      <td>0</td>\n",
       "      <td>0</td>\n",
       "      <td>0</td>\n",
       "      <td>0</td>\n",
       "      <td>0</td>\n",
       "      <td>0</td>\n",
       "      <td>1</td>\n",
       "      <td>0</td>\n",
       "      <td>0</td>\n",
       "    </tr>\n",
       "    <tr>\n",
       "      <th>3</th>\n",
       "      <td>1.000</td>\n",
       "      <td>-0.522014</td>\n",
       "      <td>-1.218259</td>\n",
       "      <td>0</td>\n",
       "      <td>0</td>\n",
       "      <td>0</td>\n",
       "      <td>0</td>\n",
       "      <td>0</td>\n",
       "      <td>0</td>\n",
       "      <td>1</td>\n",
       "      <td>...</td>\n",
       "      <td>0</td>\n",
       "      <td>0</td>\n",
       "      <td>0</td>\n",
       "      <td>0</td>\n",
       "      <td>0</td>\n",
       "      <td>0</td>\n",
       "      <td>0</td>\n",
       "      <td>0</td>\n",
       "      <td>0</td>\n",
       "      <td>1</td>\n",
       "    </tr>\n",
       "    <tr>\n",
       "      <th>4</th>\n",
       "      <td>4.000</td>\n",
       "      <td>-0.522014</td>\n",
       "      <td>-0.880229</td>\n",
       "      <td>1</td>\n",
       "      <td>0</td>\n",
       "      <td>0</td>\n",
       "      <td>0</td>\n",
       "      <td>0</td>\n",
       "      <td>0</td>\n",
       "      <td>0</td>\n",
       "      <td>...</td>\n",
       "      <td>0</td>\n",
       "      <td>1</td>\n",
       "      <td>0</td>\n",
       "      <td>0</td>\n",
       "      <td>0</td>\n",
       "      <td>0</td>\n",
       "      <td>0</td>\n",
       "      <td>1</td>\n",
       "      <td>0</td>\n",
       "      <td>0</td>\n",
       "    </tr>\n",
       "  </tbody>\n",
       "</table>\n",
       "<p>5 rows × 85 columns</p>\n",
       "</div>"
      ],
      "text/plain": [
       "     sales  onpromotion  dcoilwtico  store_nbr_9  store_nbr_11  store_nbr_18  \\\n",
       "0    4.000    -0.522014   -0.853169            0             0             1   \n",
       "1  305.289     1.587390   -0.544259            0             0             1   \n",
       "2  517.000    -0.522014    1.319604            0             0             0   \n",
       "3    1.000    -0.522014   -1.218259            0             0             0   \n",
       "4    4.000    -0.522014   -0.880229            1             0             0   \n",
       "\n",
       "   store_nbr_20  store_nbr_21  store_nbr_31  store_nbr_34  ...  month_10  \\\n",
       "0             0             0             0             0  ...         0   \n",
       "1             0             0             0             0  ...         0   \n",
       "2             0             0             0             0  ...         0   \n",
       "3             0             0             0             1  ...         0   \n",
       "4             0             0             0             0  ...         0   \n",
       "\n",
       "   month_11  month_12  day_of_week_0  day_of_week_1  day_of_week_2  \\\n",
       "0         1         0              0              0              1   \n",
       "1         0         0              0              1              0   \n",
       "2         0         0              0              0              0   \n",
       "3         0         0              0              0              0   \n",
       "4         1         0              0              0              0   \n",
       "\n",
       "   day_of_week_3  day_of_week_4  day_of_week_5  day_of_week_6  \n",
       "0              0              0              0              0  \n",
       "1              0              0              0              0  \n",
       "2              0              1              0              0  \n",
       "3              0              0              0              1  \n",
       "4              0              1              0              0  \n",
       "\n",
       "[5 rows x 85 columns]"
      ]
     },
     "execution_count": 19,
     "metadata": {},
     "output_type": "execute_result"
    }
   ],
   "source": [
    "valB.head()"
   ]
  },
  {
   "cell_type": "code",
   "execution_count": 20,
   "metadata": {
    "colab": {
     "base_uri": "https://localhost:8080/",
     "height": 255
    },
    "executionInfo": {
     "elapsed": 10,
     "status": "ok",
     "timestamp": 1705566664734,
     "user": {
      "displayName": "차수빈",
      "userId": "16979887891359732529"
     },
     "user_tz": -540
    },
    "id": "4eqgUqnjz0JU",
    "outputId": "7b47914c-b713-4e4a-fe59-dbef4f41d927"
   },
   "outputs": [
    {
     "data": {
      "text/html": [
       "<div>\n",
       "<style scoped>\n",
       "    .dataframe tbody tr th:only-of-type {\n",
       "        vertical-align: middle;\n",
       "    }\n",
       "\n",
       "    .dataframe tbody tr th {\n",
       "        vertical-align: top;\n",
       "    }\n",
       "\n",
       "    .dataframe thead th {\n",
       "        text-align: right;\n",
       "    }\n",
       "</style>\n",
       "<table border=\"1\" class=\"dataframe\">\n",
       "  <thead>\n",
       "    <tr style=\"text-align: right;\">\n",
       "      <th></th>\n",
       "      <th>id</th>\n",
       "      <th>onpromotion</th>\n",
       "      <th>dcoilwtico</th>\n",
       "      <th>store_nbr_9</th>\n",
       "      <th>store_nbr_11</th>\n",
       "      <th>store_nbr_18</th>\n",
       "      <th>store_nbr_20</th>\n",
       "      <th>store_nbr_21</th>\n",
       "      <th>store_nbr_31</th>\n",
       "      <th>store_nbr_34</th>\n",
       "      <th>...</th>\n",
       "      <th>month_5</th>\n",
       "      <th>month_6</th>\n",
       "      <th>month_7</th>\n",
       "      <th>month_9</th>\n",
       "      <th>month_10</th>\n",
       "      <th>month_11</th>\n",
       "      <th>month_12</th>\n",
       "      <th>quarter_1</th>\n",
       "      <th>quarter_2</th>\n",
       "      <th>quarter_4</th>\n",
       "    </tr>\n",
       "  </thead>\n",
       "  <tbody>\n",
       "    <tr>\n",
       "      <th>0</th>\n",
       "      <td>3000954</td>\n",
       "      <td>-0.522014</td>\n",
       "      <td>-0.620862</td>\n",
       "      <td>0</td>\n",
       "      <td>1</td>\n",
       "      <td>0</td>\n",
       "      <td>0</td>\n",
       "      <td>0</td>\n",
       "      <td>0</td>\n",
       "      <td>0</td>\n",
       "      <td>...</td>\n",
       "      <td>0</td>\n",
       "      <td>0</td>\n",
       "      <td>0</td>\n",
       "      <td>0</td>\n",
       "      <td>0</td>\n",
       "      <td>0</td>\n",
       "      <td>0</td>\n",
       "      <td>0</td>\n",
       "      <td>0</td>\n",
       "      <td>0</td>\n",
       "    </tr>\n",
       "    <tr>\n",
       "      <th>1</th>\n",
       "      <td>3000955</td>\n",
       "      <td>-0.522014</td>\n",
       "      <td>-0.620862</td>\n",
       "      <td>0</td>\n",
       "      <td>1</td>\n",
       "      <td>0</td>\n",
       "      <td>0</td>\n",
       "      <td>0</td>\n",
       "      <td>0</td>\n",
       "      <td>0</td>\n",
       "      <td>...</td>\n",
       "      <td>0</td>\n",
       "      <td>0</td>\n",
       "      <td>0</td>\n",
       "      <td>0</td>\n",
       "      <td>0</td>\n",
       "      <td>0</td>\n",
       "      <td>0</td>\n",
       "      <td>0</td>\n",
       "      <td>0</td>\n",
       "      <td>0</td>\n",
       "    </tr>\n",
       "    <tr>\n",
       "      <th>2</th>\n",
       "      <td>3000956</td>\n",
       "      <td>0.484427</td>\n",
       "      <td>-0.620862</td>\n",
       "      <td>0</td>\n",
       "      <td>1</td>\n",
       "      <td>0</td>\n",
       "      <td>0</td>\n",
       "      <td>0</td>\n",
       "      <td>0</td>\n",
       "      <td>0</td>\n",
       "      <td>...</td>\n",
       "      <td>0</td>\n",
       "      <td>0</td>\n",
       "      <td>0</td>\n",
       "      <td>0</td>\n",
       "      <td>0</td>\n",
       "      <td>0</td>\n",
       "      <td>0</td>\n",
       "      <td>0</td>\n",
       "      <td>0</td>\n",
       "      <td>0</td>\n",
       "    </tr>\n",
       "    <tr>\n",
       "      <th>3</th>\n",
       "      <td>3000957</td>\n",
       "      <td>3.115180</td>\n",
       "      <td>-0.620862</td>\n",
       "      <td>0</td>\n",
       "      <td>1</td>\n",
       "      <td>0</td>\n",
       "      <td>0</td>\n",
       "      <td>0</td>\n",
       "      <td>0</td>\n",
       "      <td>0</td>\n",
       "      <td>...</td>\n",
       "      <td>0</td>\n",
       "      <td>0</td>\n",
       "      <td>0</td>\n",
       "      <td>0</td>\n",
       "      <td>0</td>\n",
       "      <td>0</td>\n",
       "      <td>0</td>\n",
       "      <td>0</td>\n",
       "      <td>0</td>\n",
       "      <td>0</td>\n",
       "    </tr>\n",
       "    <tr>\n",
       "      <th>4</th>\n",
       "      <td>3000958</td>\n",
       "      <td>-0.522014</td>\n",
       "      <td>-0.620862</td>\n",
       "      <td>0</td>\n",
       "      <td>1</td>\n",
       "      <td>0</td>\n",
       "      <td>0</td>\n",
       "      <td>0</td>\n",
       "      <td>0</td>\n",
       "      <td>0</td>\n",
       "      <td>...</td>\n",
       "      <td>0</td>\n",
       "      <td>0</td>\n",
       "      <td>0</td>\n",
       "      <td>0</td>\n",
       "      <td>0</td>\n",
       "      <td>0</td>\n",
       "      <td>0</td>\n",
       "      <td>0</td>\n",
       "      <td>0</td>\n",
       "      <td>0</td>\n",
       "    </tr>\n",
       "  </tbody>\n",
       "</table>\n",
       "<p>5 rows × 86 columns</p>\n",
       "</div>"
      ],
      "text/plain": [
       "        id  onpromotion  dcoilwtico  store_nbr_9  store_nbr_11  store_nbr_18  \\\n",
       "0  3000954    -0.522014   -0.620862            0             1             0   \n",
       "1  3000955    -0.522014   -0.620862            0             1             0   \n",
       "2  3000956     0.484427   -0.620862            0             1             0   \n",
       "3  3000957     3.115180   -0.620862            0             1             0   \n",
       "4  3000958    -0.522014   -0.620862            0             1             0   \n",
       "\n",
       "   store_nbr_20  store_nbr_21  store_nbr_31  store_nbr_34  ...  month_5  \\\n",
       "0             0             0             0             0  ...        0   \n",
       "1             0             0             0             0  ...        0   \n",
       "2             0             0             0             0  ...        0   \n",
       "3             0             0             0             0  ...        0   \n",
       "4             0             0             0             0  ...        0   \n",
       "\n",
       "   month_6  month_7  month_9  month_10  month_11  month_12  quarter_1  \\\n",
       "0        0        0        0         0         0         0          0   \n",
       "1        0        0        0         0         0         0          0   \n",
       "2        0        0        0         0         0         0          0   \n",
       "3        0        0        0         0         0         0          0   \n",
       "4        0        0        0         0         0         0          0   \n",
       "\n",
       "   quarter_2  quarter_4  \n",
       "0          0          0  \n",
       "1          0          0  \n",
       "2          0          0  \n",
       "3          0          0  \n",
       "4          0          0  \n",
       "\n",
       "[5 rows x 86 columns]"
      ]
     },
     "execution_count": 20,
     "metadata": {},
     "output_type": "execute_result"
    }
   ],
   "source": [
    "testB.head()"
   ]
  },
  {
   "cell_type": "markdown",
   "metadata": {
    "id": "vDzmJqvS09L0"
   },
   "source": [
    "**데이터 준비**"
   ]
  },
  {
   "cell_type": "code",
   "execution_count": 21,
   "metadata": {
    "executionInfo": {
     "elapsed": 312,
     "status": "ok",
     "timestamp": 1705566678258,
     "user": {
      "displayName": "차수빈",
      "userId": "16979887891359732529"
     },
     "user_tz": -540
    },
    "id": "g7yKaaKhzm7c"
   },
   "outputs": [],
   "source": [
    "## Feature vs Target\n",
    "\n",
    "X_train = trainB.drop('sales', axis=1)\n",
    "y_train = trainB['sales']\n",
    "\n",
    "X_val = valB.drop('sales', axis=1)\n",
    "y_val = valB['sales']"
   ]
  },
  {
   "cell_type": "code",
   "execution_count": 22,
   "metadata": {
    "colab": {
     "base_uri": "https://localhost:8080/"
    },
    "executionInfo": {
     "elapsed": 8,
     "status": "ok",
     "timestamp": 1705566679961,
     "user": {
      "displayName": "차수빈",
      "userId": "16979887891359732529"
     },
     "user_tz": -540
    },
    "id": "jyofUEeI6c5t",
    "outputId": "2ef528ff-6bca-46fa-abe4-b74fb9bb86d5"
   },
   "outputs": [
    {
     "name": "stdout",
     "output_type": "stream",
     "text": [
      "(205795, 84) (205795,)\n",
      "(88198, 84) (88198,)\n"
     ]
    }
   ],
   "source": [
    "print(X_train.shape, y_train.shape)\n",
    "print(X_val.shape, y_val.shape)"
   ]
  },
  {
   "cell_type": "code",
   "execution_count": 23,
   "metadata": {
    "executionInfo": {
     "elapsed": 330,
     "status": "ok",
     "timestamp": 1705566861926,
     "user": {
      "displayName": "차수빈",
      "userId": "16979887891359732529"
     },
     "user_tz": -540
    },
    "id": "dTeY3EgH1137"
   },
   "outputs": [],
   "source": [
    "X_test = testB.drop(['id', 'family_BOOKS'], axis = 1) # train(Type B) 데이터에는 해당 정보가 x"
   ]
  },
  {
   "cell_type": "code",
   "execution_count": 24,
   "metadata": {
    "colab": {
     "base_uri": "https://localhost:8080/"
    },
    "executionInfo": {
     "elapsed": 341,
     "status": "ok",
     "timestamp": 1705566864120,
     "user": {
      "displayName": "차수빈",
      "userId": "16979887891359732529"
     },
     "user_tz": -540
    },
    "id": "gicBOs_L16iK",
    "outputId": "200e2295-66fc-49a4-c5a6-ccb4c8c7f93e"
   },
   "outputs": [
    {
     "data": {
      "text/plain": [
       "(4224, 84)"
      ]
     },
     "execution_count": 24,
     "metadata": {},
     "output_type": "execute_result"
    }
   ],
   "source": [
    "X_test.shape"
   ]
  },
  {
   "cell_type": "markdown",
   "metadata": {
    "id": "vdJtNGqgRJJS"
   },
   "source": [
    "### **4-1. Base Model**"
   ]
  },
  {
   "cell_type": "code",
   "execution_count": 25,
   "metadata": {
    "colab": {
     "base_uri": "https://localhost:8080/",
     "height": 904
    },
    "executionInfo": {
     "elapsed": 349792,
     "status": "ok",
     "timestamp": 1705567252190,
     "user": {
      "displayName": "차수빈",
      "userId": "16979887891359732529"
     },
     "user_tz": -540
    },
    "id": "bygzUC94RIS1",
    "outputId": "08e96ea0-eec1-4854-ad89-c92eb1350e36"
   },
   "outputs": [
    {
     "data": {
      "image/png": "[encoded data removed]",
      "text/plain": [
       "<Figure size 1000x800 with 1 Axes>"
      ]
     },
     "metadata": {},
     "output_type": "display_data"
    },
    {
     "data": {
      "image/png": "[encoded data removed]",
      "text/plain": [
       "<Figure size 1000x100 with 1 Axes>"
      ]
     },
     "metadata": {},
     "output_type": "display_data"
    },
    {
     "name": "stdout",
     "output_type": "stream",
     "text": [
      "\n",
      "                            rmsle                    model\n",
      "RandomForestRegressor_B  0.383234  RandomForestRegressor_B\n"
     ]
    }
   ],
   "source": [
    "from sklearn.ensemble import RandomForestRegressor\n",
    "\n",
    "# 기본 모델 생성\n",
    "rf_baseB = RandomForestRegressor(n_jobs = -1, random_state = 42)\n",
    "\n",
    "my_predictions = {}  # 결과를 저장할 딕셔너리\n",
    "\n",
    "# 모델 학습\n",
    "rf_baseB.fit(X_train, y_train)\n",
    "\n",
    "# 모델 예측\n",
    "rf_predB = rf_baseB.predict(X_val)\n",
    "\n",
    "# 로그 스케일로 예측된 예측값을 원복\n",
    "original_rf_predB = np.expm1(rf_predB)\n",
    "\n",
    "# 모델 평가 및 시각화\n",
    "model_eval('RandomForestRegressor_B', original_rf_predB, y_val)"
   ]
  },
  {
   "cell_type": "markdown",
   "metadata": {
    "id": "5vcsGjbHRc-v"
   },
   "source": [
    "### **4-2. 하이퍼 파라미터 튜닝**\n"
   ]
  },
  {
   "cell_type": "markdown",
   "metadata": {
    "id": "CIB07Kq2hJ5A"
   },
   "source": [
    "#### **HyperOpt**\n",
    "- 베이지안 최적화 알고리즘을 활용하여 효율적인 하이퍼파라미터 최적화를 제공하는 파이썬 라이브러리\n",
    "  - 이를 통해 사용자는 자동화된 최적화, 다양한 최적화 알고리즘 선택, 고급 최적화 알고리즘 활용 등을 통해 모델 성능을 향상시킬 수 있음\n",
    "- **주요 로직**\n",
    "  1. 입력 변수명과 입력값의 검색 공간 설정\n",
    "  2. 목적 함수 설정\n",
    "  3. 목적 함수의 반환 최솟값을 가지는 최적 입력값 유추\n",
    "- 참고자료  \n",
    "  [베이지안 최적화에 기반한 HyperOpt를 활용한 하이퍼 파라미터 튜닝](https://teddylee777.github.io/machine-learning/hyper-opt/)"
   ]
  },
  {
   "cell_type": "code",
   "execution_count": null,
   "metadata": {
    "id": "XBqJtjVwhHG9"
   },
   "outputs": [],
   "source": [
    "!pip install hyperopt"
   ]
  },
  {
   "cell_type": "code",
   "execution_count": 29,
   "metadata": {
    "executionInfo": {
     "elapsed": 871,
     "status": "ok",
     "timestamp": 1705567765845,
     "user": {
      "displayName": "차수빈",
      "userId": "16979887891359732529"
     },
     "user_tz": -540
    },
    "id": "BY8w5y-fhaCI"
   },
   "outputs": [],
   "source": [
    "from hyperopt import hp, fmin, tpe, Trials\n",
    "from hyperopt import STATUS_OK"
   ]
  },
  {
   "cell_type": "code",
   "execution_count": 30,
   "metadata": {
    "executionInfo": {
     "elapsed": 1,
     "status": "ok",
     "timestamp": 1705567767057,
     "user": {
      "displayName": "차수빈",
      "userId": "16979887891359732529"
     },
     "user_tz": -540
    },
    "id": "VznAJRe4hdpd"
   },
   "outputs": [],
   "source": [
    "## 검색 공간 설정\n",
    "\n",
    "space = {\n",
    "    'n_estimators': hp.choice('n_estimators', range(50, 201)), # 트리 개수\n",
    "    'max_depth': hp.choice('max_depth', [None, 10, 20, 30]), # 트리의 최대 깊이\n",
    "    'min_samples_split': hp.choice('min_samples_split', range(2, 11)), # 노드 분할을 위한 최소 샘플 수\n",
    "    'min_samples_leaf': hp.choice('min_samples_leaf', range(1, 11)), # 리프 노드를 위한 최소 샘플 수\n",
    "    'max_features': hp.choice('max_features', [None, 'sqrt', 'log2']) # 트리 분할 시 사용할 최대 특성의 수\n",
    "}"
   ]
  },
  {
   "cell_type": "code",
   "execution_count": 31,
   "metadata": {
    "executionInfo": {
     "elapsed": 1,
     "status": "ok",
     "timestamp": 1705567768929,
     "user": {
      "displayName": "차수빈",
      "userId": "16979887891359732529"
     },
     "user_tz": -540
    },
    "id": "dVf_3qXXjUe6"
   },
   "outputs": [],
   "source": [
    "## 목적 함수 설정\n",
    "\n",
    "def objective(params):\n",
    "    model = RandomForestRegressor(**params)\n",
    "    model.fit(X_train, y_train)\n",
    "    \n",
    "    y_pred = model.predict(X_val)\n",
    "    y_pred = np.expm1(y_pred) # 원래 스케일로 원복\n",
    "    \n",
    "    rmsle_val = rmsle(y_val, y_pred)\n",
    "    \n",
    "    return {'loss': rmsle_val, 'status': STATUS_OK}"
   ]
  },
  {
   "cell_type": "code",
   "execution_count": 32,
   "metadata": {
    "colab": {
     "base_uri": "https://localhost:8080/"
    },
    "executionInfo": {
     "elapsed": 5815372,
     "status": "ok",
     "timestamp": 1705574202000,
     "user": {
      "displayName": "차수빈",
      "userId": "16979887891359732529"
     },
     "user_tz": -540
    },
    "id": "x8nc1U4TkijA",
    "outputId": "d615d10c-d169-424d-98f0-d58120da29ae"
   },
   "outputs": [
    {
     "name": "stdout",
     "output_type": "stream",
     "text": [
      "100%|███████████████████████████████████████████████| 30/30 [58:00<00:00, 116.03s/trial, best loss: 0.3704980435650204]\n",
      "{'max_depth': 0, 'max_features': 0, 'min_samples_leaf': 6, 'min_samples_split': 6, 'n_estimators': 143}\n"
     ]
    }
   ],
   "source": [
    "## 파라미터 최적화 수행\n",
    "\n",
    "trials = Trials()\n",
    "best = fmin(fn = objective, # 목적 함수\n",
    "            space = space, # 탐색 공간\n",
    "            algo = tpe.suggest, # 최적화 적용 알고리즘\n",
    "            max_evals = 30,  # 최대 반복 횟수\n",
    "            trials = trials, # 최적값 반환\n",
    "            rstate = np.random.default_rng(seed = 0)) # seed 설정\n",
    "print(best)"
   ]
  },
  {
   "cell_type": "markdown",
   "metadata": {
    "id": "Kxj4hNuCj1_H"
   },
   "source": [
    "- 하이퍼 파라미터 튜닝을 진행한 **model**의 성능이 더 좋다."
   ]
  },
  {
   "cell_type": "code",
   "execution_count": 33,
   "metadata": {
    "id": "Z-apM_n9Zv0H"
   },
   "outputs": [
    {
     "data": {
      "image/png": "[encoded data removed]",
      "text/plain": [
       "<Figure size 1000x800 with 1 Axes>"
      ]
     },
     "metadata": {},
     "output_type": "display_data"
    },
    {
     "data": {
      "image/png": "[encoded data removed]",
      "text/plain": [
       "<Figure size 1000x100 with 1 Axes>"
      ]
     },
     "metadata": {},
     "output_type": "display_data"
    },
    {
     "name": "stdout",
     "output_type": "stream",
     "text": [
      "\n",
      "                                 rmsle                         model\n",
      "RandomForestRegressor_tunedB  0.370754  RandomForestRegressor_tunedB\n"
     ]
    }
   ],
   "source": [
    "from sklearn.ensemble import RandomForestRegressor\n",
    "\n",
    "# 최적 모델 생성\n",
    "rf_tunedB = RandomForestRegressor(max_depth = None, max_features = None, min_samples_leaf = 6,\n",
    "                                  min_samples_split = 6, n_estimators = 143,\n",
    "                                  n_jobs = -1, random_state = 42)\n",
    "\n",
    "my_predictions = {}  # 결과를 저장할 딕셔너리\n",
    "\n",
    "# 모델 학습\n",
    "rf_tunedB.fit(X_train, y_train)\n",
    "\n",
    "# 모델 예측\n",
    "rf_predB = rf_tunedB.predict(X_val)\n",
    "\n",
    "# 로그 스케일로 예측된 예측값을 원복\n",
    "original_rf_predB = np.expm1(rf_predB)\n",
    "\n",
    "# 모델 평가 및 시각화\n",
    "model_eval('RandomForestRegressor_tunedB', original_rf_predB, y_val)"
   ]
  },
  {
   "cell_type": "code",
   "execution_count": 34,
   "metadata": {
    "colab": {
     "base_uri": "https://localhost:8080/"
    },
    "executionInfo": {
     "elapsed": 10760,
     "status": "ok",
     "timestamp": 1705539535574,
     "user": {
      "displayName": "차수빈",
      "userId": "16979887891359732529"
     },
     "user_tz": -540
    },
    "id": "GMQTxRbKGiTz",
    "outputId": "ca37d864-8a34-447e-e1aa-ebd77f13d709"
   },
   "outputs": [
    {
     "data": {
      "text/plain": [
       "['./model/modelB.pkl']"
      ]
     },
     "execution_count": 34,
     "metadata": {},
     "output_type": "execute_result"
    }
   ],
   "source": [
    "### 모델 저장\n",
    "\n",
    "import pickle\n",
    "import joblib\n",
    "\n",
    "joblib.dump(rf_tunedB, './model/modelB.pkl')"
   ]
  },
  {
   "cell_type": "markdown",
   "metadata": {
    "id": "D-8vFC3SnH7u"
   },
   "source": [
    "### **4-3. 최종 예측**"
   ]
  },
  {
   "cell_type": "code",
   "execution_count": null,
   "metadata": {
    "id": "wo1Jqkq-35ac"
   },
   "outputs": [],
   "source": []
  }
 ],
 "metadata": {
  "colab": {
   "authorship_tag": "ABX9TyPQGWzqFheUp0ygdhC8YS+6",
   "provenance": [],
   "toc_visible": true
  },
  "kernelspec": {
   "display_name": "Python 3 (ipykernel)",
   "language": "python",
   "name": "python3"
  },
  "language_info": {
   "codemirror_mode": {
    "name": "ipython",
    "version": 3
   },
   "file_extension": ".py",
   "mimetype": "text/x-python",
   "name": "python",
   "nbconvert_exporter": "python",
   "pygments_lexer": "ipython3",
   "version": "3.11.5"
  }
 },
 "nbformat": 4,
 "nbformat_minor": 1
}
